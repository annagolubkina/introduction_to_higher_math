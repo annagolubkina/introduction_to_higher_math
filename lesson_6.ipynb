{
 "cells": [
  {
   "cell_type": "code",
   "execution_count": 1,
   "id": "b94b0868",
   "metadata": {},
   "outputs": [],
   "source": [
    "from math import factorial"
   ]
  },
  {
   "cell_type": "code",
   "execution_count": 2,
   "id": "7fe67f50",
   "metadata": {},
   "outputs": [],
   "source": [
    "C_1 = factorial(8)  * 3**8\n",
    "C_2 = factorial(12) * 2**12\n",
    "C_3 = factorial(6)  * 4**6\n",
    "C_4 = factorial(1)  * 24\n",
    "total_C = factorial(27) * (24 ** 27) "
   ]
  },
  {
   "cell_type": "code",
   "execution_count": 3,
   "id": "ec20b81d",
   "metadata": {},
   "outputs": [
    {
     "data": {
      "text/plain": [
       "1.8298051356415021e-37"
      ]
     },
     "execution_count": 3,
     "metadata": {},
     "output_type": "execute_result"
    }
   ],
   "source": [
    "P_A  = (C_1 * C_2 * C_3 * C_4 )/ total_C\n",
    "P_A"
   ]
  }
 ],
 "metadata": {
  "kernelspec": {
   "display_name": "Python 3",
   "language": "python",
   "name": "python3"
  },
  "language_info": {
   "codemirror_mode": {
    "name": "ipython",
    "version": 3
   },
   "file_extension": ".py",
   "mimetype": "text/x-python",
   "name": "python",
   "nbconvert_exporter": "python",
   "pygments_lexer": "ipython3",
   "version": "3.8.8"
  }
 },
 "nbformat": 4,
 "nbformat_minor": 5
}
